{
  "nbformat": 4,
  "nbformat_minor": 0,
  "metadata": {
    "colab": {
      "provenance": []
    },
    "kernelspec": {
      "name": "python3",
      "display_name": "Python 3"
    },
    "language_info": {
      "name": "python"
    }
  },
  "cells": [
    {
      "cell_type": "code",
      "execution_count": null,
      "metadata": {
        "colab": {
          "base_uri": "https://localhost:8080/"
        },
        "id": "7o6xj-UJDzyb",
        "outputId": "b20c8f04-2a1e-42d7-dbcd-b1432d81d7ca"
      },
      "outputs": [
        {
          "output_type": "stream",
          "name": "stdout",
          "text": [
            "Requirement already satisfied: cryptography in /usr/local/lib/python3.11/dist-packages (43.0.3)\n",
            "Requirement already satisfied: cffi>=1.12 in /usr/local/lib/python3.11/dist-packages (from cryptography) (1.17.1)\n",
            "Requirement already satisfied: pycparser in /usr/local/lib/python3.11/dist-packages (from cffi>=1.12->cryptography) (2.22)\n"
          ]
        }
      ],
      "source": [
        "!pip install cryptography"
      ]
    },
    {
      "cell_type": "code",
      "source": [
        "from cryptography.fernet import Fernet\n",
        "\n",
        "# Generate key\n",
        "\n",
        "key = Fernet.generate_key()\n",
        "cipher_suite = Fernet(key)\n",
        "\n",
        "# message to encrypt\n",
        "\n",
        "message = b\"Ishimwe\"\n",
        "\n",
        "# encrypt\n",
        "encrypted_message = cipher_suite.encrypt(message)\n",
        "print(\"Encrypt message:\", encrypted_message)\n",
        "\n",
        "# descript the message\n",
        "decrypted_message = cipher_suite.decrypt(encrypted_message)\n",
        "print(\"Decrypted_message:\", decrypted_message.decode())\n",
        "\n",
        "#key = Fernet.generate_key()"
      ],
      "metadata": {
        "colab": {
          "base_uri": "https://localhost:8080/"
        },
        "id": "fa50YlvrEG1R",
        "outputId": "772fe3b0-3430-4539-bfc6-cd15787fd5c8"
      },
      "execution_count": null,
      "outputs": [
        {
          "output_type": "stream",
          "name": "stdout",
          "text": [
            "Encrypt message: b'gAAAAABnrOYiYIysHC5iBWcdm-B84tSTKQ9F0Vig7ZSN-kP1S01s7Df9AOMc08DcQhiNr5Do2pab7jZdpPqByD7Z-1xZUEzPaQ=='\n",
            "Decrypted_message: Ishimwe\n"
          ]
        }
      ]
    },
    {
      "cell_type": "markdown",
      "source": [
        "First_Name:\n"
      ],
      "metadata": {
        "id": "MzMFWCoMXWeC"
      }
    }
  ]
}