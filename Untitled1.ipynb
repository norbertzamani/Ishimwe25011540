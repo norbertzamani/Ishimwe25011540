{
  "nbformat": 4,
  "nbformat_minor": 0,
  "metadata": {
    "colab": {
      "provenance": []
    },
    "kernelspec": {
      "name": "python3",
      "display_name": "Python 3"
    },
    "language_info": {
      "name": "python"
    }
  },
  "cells": [
    {
      "cell_type": "code",
      "execution_count": 4,
      "metadata": {
        "colab": {
          "base_uri": "https://localhost:8080/"
        },
        "id": "5QpZ6D9lb202",
        "outputId": "b0fabdf2-8ecb-4440-9191-adc8957b7e2d"
      },
      "outputs": [
        {
          "output_type": "stream",
          "name": "stdout",
          "text": [
            "No SQL Injection vulnerability detected.\n"
          ]
        }
      ],
      "source": [
        "#import requests\n",
        "import requests\n",
        "\n",
        "def check_sql_injection(url):\n",
        "  payload = \"' OR'1'='1\"\n",
        "#sending request\n",
        "  response = requests.get(url + payload)\n",
        "#checking responses\n",
        "  if \"error\" in response.text.lower():\n",
        "    return \"Potential SQL Injection vulnerability found!\"\n",
        "  return \"No SQL Injection vulnerability detected.\"\n",
        "#Example usage you can use yours\n",
        "url = \"https://juice-shop.herouapp.com/#/\"\n",
        "result = check_sql_injection(url)\n",
        "print(result)\n"
      ]
    }
  ]
}