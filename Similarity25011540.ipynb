{
  "nbformat": 4,
  "nbformat_minor": 0,
  "metadata": {
    "colab": {
      "provenance": []
    },
    "kernelspec": {
      "name": "python3",
      "display_name": "Python 3"
    },
    "language_info": {
      "name": "python"
    }
  },
  "cells": [
    {
      "cell_type": "code",
      "execution_count": 17,
      "metadata": {
        "colab": {
          "base_uri": "https://localhost:8080/"
        },
        "id": "k_aBvFTo_TIn",
        "outputId": "4b9875c4-a4db-49e9-acdb-a388ce7d5a77"
      },
      "outputs": [
        {
          "output_type": "stream",
          "name": "stdout",
          "text": [
            "Similarity: 0.64\n",
            "Common words: {'systematic', 'is', 'study', 'past', 'History', 'of', 'the'}\n"
          ]
        }
      ],
      "source": [
        "import random\n",
        "file1 = \"This is a sample sample  text about is this legal sample issues.\"\n",
        "file2 = \"This text legal discusses legal and ethical This issues in legal computing.\"\n",
        "\n",
        "def jaccard_similarity(text1, text2):\n",
        "  set1 = set(text1.split())\n",
        "  set2 = set(text2.split())\n",
        "\n",
        "  intersection = set1.intersection(set2)\n",
        "\n",
        "  union= set1.union(set2)\n",
        "  similarity = len(intersection) / len(union)\n",
        "  return similarity, intersection\n",
        "\n",
        "text1 = \"History is the systematic study of the past\"\n",
        "text2 = \"History is the systematic study of the past this is just for practice\"\n",
        "\n",
        "similarity, common_words = jaccard_similarity(text1, text2)\n",
        "\n",
        "print (f\"Similarity: {similarity:.2f}\")\n",
        "print (f\"Common words: {common_words}\")"
      ]
    },
    {
      "cell_type": "code",
      "source": [],
      "metadata": {
        "id": "JOJrLKizFqQo"
      },
      "execution_count": null,
      "outputs": []
    }
  ]
}