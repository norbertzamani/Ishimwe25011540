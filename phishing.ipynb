{
  "nbformat": 4,
  "nbformat_minor": 0,
  "metadata": {
    "colab": {
      "provenance": [],
      "authorship_tag": "ABX9TyN4qtVvancmq2QSf0g0OR7J",
      "include_colab_link": true
    },
    "kernelspec": {
      "name": "python3",
      "display_name": "Python 3"
    },
    "language_info": {
      "name": "python"
    }
  },
  "cells": [
    {
      "cell_type": "markdown",
      "metadata": {
        "id": "view-in-github",
        "colab_type": "text"
      },
      "source": [
        "<a href=\"https://colab.research.google.com/github/norbertzamani/Ishimwe25011540/blob/main/phishing.ipynb\" target=\"_parent\"><img src=\"https://colab.research.google.com/assets/colab-badge.svg\" alt=\"Open In Colab\"/></a>"
      ]
    },
    {
      "cell_type": "code",
      "execution_count": 24,
      "metadata": {
        "colab": {
          "base_uri": "https://localhost:8080/"
        },
        "id": "FLI-bd2JOoMT",
        "outputId": "7aefd3b1-adb2-4f01-ffc6-0b75542c8811"
      },
      "outputs": [
        {
          "output_type": "stream",
          "name": "stdout",
          "text": [
            "   Email_ID                                      Content\n",
            "0         1           Don't forget our meeting at 10 AM.\n",
            "1         2           Get 20% off on your next purchase!\n",
            "2         3  You are invited for an interview on Friday.\n",
            "3         4                    Got it! See you at 10 AM.\n",
            "4         5           Click here to reset your password.\n",
            "Error: The 'content' column is missing from the dataset.\n"
          ]
        }
      ],
      "source": [
        "import pandas as pd\n",
        "\n",
        "df = pd.read_csv('/content/ISHIMWE25011540.csv')\n",
        "print(df.head())\n",
        "\n",
        "# Define phishing keywords\n",
        "phishing_keywords = [\"urgent\", \"password reset\", \"bank\", \"verify\", \"account suspended\"]\n",
        "#These are words commonly found in phishing emails.\n",
        "#The script will check if an email contains any of these words.\n",
        "\n",
        "# Load the dataset (uploaded file)\n",
        "emails = pd.read_csv(\"/content/ISHIMWE25011540.csv\")\n",
        "\n",
        "# Check if the 'content' column exists\n",
        "if 'content' in emails.columns:\n",
        "    # Apply phishing detection\n",
        "    emails[\"is_phishing\"] = emails[\"content\"].apply(\n",
        "        lambda x: any(keyword in str(x).lower() for keyword in phishing_keywords)\n",
        "    )\n",
        "\n",
        "\n",
        "    # Save the processed file\n",
        "    emails.to_csv(\"/content/ISHIMWE25011540.csv\", index=False)\n",
        "    print(\"Phishing detection complete. ✅\")\n",
        "else:\n",
        "    print(\"Error: The 'content' column is missing from the dataset.\")\n"
      ]
    }
  ]
}