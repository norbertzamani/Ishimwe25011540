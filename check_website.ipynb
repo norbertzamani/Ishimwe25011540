{
  "nbformat": 4,
  "nbformat_minor": 0,
  "metadata": {
    "colab": {
      "provenance": []
    },
    "kernelspec": {
      "name": "python3",
      "display_name": "Python 3"
    },
    "language_info": {
      "name": "python"
    }
  },
  "cells": [
    {
      "cell_type": "code",
      "execution_count": 3,
      "metadata": {
        "colab": {
          "base_uri": "https://localhost:8080/"
        },
        "id": "1vBjd02qMmpQ",
        "outputId": "c4a15cca-2854-4af1-9564-cb4e7f38cf05"
      },
      "outputs": [
        {
          "output_type": "stream",
          "name": "stdout",
          "text": [
            "Website https://uok.ac.rw is up (Status: 200)\n"
          ]
        }
      ],
      "source": [
        "import requests\n",
        "\n",
        "def check_website(url):\n",
        "    try:\n",
        "        response = requests.get(url, timeout=5)\n",
        "        return f\"Website {url} is up (Status: {response.status_code})\"\n",
        "    except requests.exceptions.RequestException:\n",
        "        return f\"Website {url} is unreachable.\"\n",
        "\n",
        "print(check_website(\"https://uok.ac.rw\"))"
      ]
    }
  ]
}