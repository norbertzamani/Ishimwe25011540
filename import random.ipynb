{
  "nbformat": 4,
  "nbformat_minor": 0,
  "metadata": {
    "colab": {
      "provenance": []
    },
    "kernelspec": {
      "name": "python3",
      "display_name": "Python 3"
    },
    "language_info": {
      "name": "python"
    }
  },
  "cells": [
    {
      "cell_type": "code",
      "execution_count": 12,
      "metadata": {
        "colab": {
          "base_uri": "https://localhost:8080/"
        },
        "id": "PZ9x9WeR4uZI",
        "outputId": "84a80bdb-a2d4-494a-fa72-b9c85df18f0e"
      },
      "outputs": [
        {
          "output_type": "stream",
          "name": "stdout",
          "text": [
            "Biased_Hiring: []\n",
            "Fair_Hiring: {'name': 'Mutesi', 'gender': 'M', 'age': 35}\n"
          ]
        }
      ],
      "source": [
        "# blased hiring aligorithm\n",
        "import random\n",
        "candidates = [{'name':'James','gender':'F','age':25},{'name':'Mutesi','gender':'M','age':35}]\n",
        "def biased_hire(candidates):\n",
        "  return[candidate for candidate in candidates if candidate['age'] == '40']\n",
        "print(\"Biased_Hiring:\",biased_hire(candidates) )\n",
        "def fair_hire(candidates):\n",
        "    return random.choice(candidates)\n",
        "print(\"Fair_Hiring:\", fair_hire(candidates))"
      ]
    }
  ]
}